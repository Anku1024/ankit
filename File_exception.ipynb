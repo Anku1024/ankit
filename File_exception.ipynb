{
 "cells": [
  {
   "cell_type": "markdown",
   "metadata": {},
   "source": [
    "## File exception"
   ]
  },
  {
   "cell_type": "markdown",
   "metadata": {},
   "source": [
    "## ValueError"
   ]
  },
  {
   "cell_type": "code",
   "execution_count": 3,
   "metadata": {},
   "outputs": [
    {
     "name": "stdout",
     "output_type": "stream",
     "text": [
      "Enter valid Int value..a\n",
      "Invalid value , pls try again..\n",
      "Enter valid Int value..2.2\n",
      "Invalid value , pls try again..\n",
      "Enter valid Int value..2\n",
      "2\n"
     ]
    }
   ],
   "source": [
    "while True:\n",
    "    try:\n",
    "        print(int(input(\"Enter valid Int value..\")))\n",
    "        break\n",
    "    except ValueError:\n",
    "        print(\"Invalid value , pls try again..\")"
   ]
  },
  {
   "cell_type": "markdown",
   "metadata": {},
   "source": [
    "## ZerodivisionError"
   ]
  },
  {
   "cell_type": "code",
   "execution_count": 5,
   "metadata": {},
   "outputs": [
    {
     "name": "stdout",
     "output_type": "stream",
     "text": [
      "Enter int value..: 0\n",
      "zero division error\n"
     ]
    }
   ],
   "source": [
    "try:\n",
    "    i = int(input(\"Enter int value..: \"))\n",
    "    j = 1/i\n",
    "    print(i)\n",
    "    print(j)\n",
    "except ZeroDivisionError:\n",
    "    print(\"zero division error\")"
   ]
  },
  {
   "cell_type": "code",
   "execution_count": 7,
   "metadata": {},
   "outputs": [
    {
     "name": "stdout",
     "output_type": "stream",
     "text": [
      "Enter int value..: 0\n",
      "zero division error\n",
      "Value might be valid or invalid\n"
     ]
    }
   ],
   "source": [
    "## with finally\n",
    "\n",
    "try:\n",
    "    i = int(input(\"Enter int value..: \"))\n",
    "    j = 1/i\n",
    "    print(i)\n",
    "    print(j)\n",
    "except ZeroDivisionError:\n",
    "    print(\"zero division error\")\n",
    "finally:\n",
    "    print(\"Value might be valid or invalid\")"
   ]
  },
  {
   "cell_type": "code",
   "execution_count": 8,
   "metadata": {},
   "outputs": [
    {
     "name": "stdout",
     "output_type": "stream",
     "text": [
      "Enter int value..: 2.2\n",
      "Value error...\n",
      "Value might be valid or invalid\n"
     ]
    }
   ],
   "source": [
    "## with finally\n",
    "\n",
    "try:\n",
    "    i = int(input(\"Enter int value..: \"))\n",
    "    j = 1/i\n",
    "    print(i)\n",
    "    print(j)\n",
    "except ValueError:\n",
    "    print(\"Value error...\")\n",
    "except ZeroDivisionError:\n",
    "    print(\"zero division error\")\n",
    "finally:\n",
    "    print(\"Value might be valid or invalid\")"
   ]
  },
  {
   "cell_type": "code",
   "execution_count": 33,
   "metadata": {},
   "outputs": [
    {
     "name": "stdout",
     "output_type": "stream",
     "text": [
      "file is not exist\n",
      "please make sure with the file name\n",
      "file is open if it's exist\n"
     ]
    }
   ],
   "source": [
    "try:\n",
    "    f = open('C:/Users/home/new/adult.ata.txt','r')\n",
    "except IOError:\n",
    "    print(\"file is not exist\")\n",
    "    print(\"please make sure with the file name\")\n",
    "finally:\n",
    "    print(\"file is open if it's exist\")"
   ]
  },
  {
   "cell_type": "markdown",
   "metadata": {},
   "source": [
    "## IOError"
   ]
  },
  {
   "cell_type": "code",
   "execution_count": 34,
   "metadata": {},
   "outputs": [
    {
     "name": "stdout",
     "output_type": "stream",
     "text": [
      "file is open if it's exist\n"
     ]
    }
   ],
   "source": [
    "try:\n",
    "    f = open('C:/Users/home/new/adult.data.txt','r')\n",
    "except IOError:\n",
    "    print(\"file is not exist\")\n",
    "finally:\n",
    "    print(\"file is open if it's exist\")"
   ]
  },
  {
   "cell_type": "code",
   "execution_count": 44,
   "metadata": {},
   "outputs": [
    {
     "name": "stdout",
     "output_type": "stream",
     "text": [
      "file is not exist\n",
      "file is open if it's exist\n"
     ]
    }
   ],
   "source": [
    "try:\n",
    "    f = open('C:/Users/home/new/adult.dta.txt','r')\n",
    "except IOError:\n",
    "    print(\"file is not exist\")\n",
    "finally:\n",
    "    print(\"file is open if it's exist\")"
   ]
  },
  {
   "cell_type": "markdown",
   "metadata": {},
   "source": [
    "## Nameerror"
   ]
  },
  {
   "cell_type": "code",
   "execution_count": 35,
   "metadata": {},
   "outputs": [
    {
     "name": "stdout",
     "output_type": "stream",
     "text": [
      " Name Error\n"
     ]
    }
   ],
   "source": [
    "try:\n",
    "     close('C:/Users/home/new/adult.data.txt','r')\n",
    "except NameError:\n",
    "    print(\" Name Error\")\n",
    "    "
   ]
  },
  {
   "cell_type": "code",
   "execution_count": 37,
   "metadata": {},
   "outputs": [
    {
     "name": "stdout",
     "output_type": "stream",
     "text": [
      "file is closed\n"
     ]
    }
   ],
   "source": [
    "try:\n",
    "    f.close()\n",
    "    print(\"file is closed\")\n",
    "except NameError:\n",
    "    print(file is open)"
   ]
  },
  {
   "cell_type": "code",
   "execution_count": null,
   "metadata": {},
   "outputs": [],
   "source": []
  }
 ],
 "metadata": {
  "kernelspec": {
   "display_name": "Python 3",
   "language": "python",
   "name": "python3"
  },
  "language_info": {
   "codemirror_mode": {
    "name": "ipython",
    "version": 3
   },
   "file_extension": ".py",
   "mimetype": "text/x-python",
   "name": "python",
   "nbconvert_exporter": "python",
   "pygments_lexer": "ipython3",
   "version": "3.6.4"
  }
 },
 "nbformat": 4,
 "nbformat_minor": 2
}
